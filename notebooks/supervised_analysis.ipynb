{
 "cells": [
  {
   "cell_type": "code",
   "execution_count": 0,
   "metadata": {
    "colab": {},
    "colab_type": "code",
    "id": "Ynm3DbGqN8aa"
   },
   "outputs": [],
   "source": [
    "%matplotlib inline\n",
    "import pandas as pd\n",
    "import numpy as np \n",
    "import re\n",
    "import string\n",
    "import tqdm\n",
    "import matplotlib.pyplot as plt\n",
    "from sklearn.decomposition import PCA\n",
    "from sklearn.model_selection import train_test_split\n",
    "from sklearn.metrics import classification_report, confusion_matrix, f1_score\n",
    "\n",
    "import pandas as pd\n",
    "import numpy as np\n",
    "import matplotlib.pyplot as plt\n",
    "import geopandas as gpd"
   ]
  },
  {
   "cell_type": "code",
   "execution_count": 0,
   "metadata": {
    "colab": {},
    "colab_type": "code",
    "id": "px3vm16qN8aj"
   },
   "outputs": [],
   "source": [
    "res = []\n",
    "with open('gdn_common_sorted.txt') as file : \n",
    "    for j, line in enumerate(file): \n",
    "        if j > 0 : \n",
    "            res.append(line.split(' ')[:701])\n",
    "res = np.asarray(res)\n",
    "embedding = pd.DataFrame(res[:,1:], index=res[:,0])\n",
    "embeded_words = {}\n",
    "\n",
    "for word in embedding.index : \n",
    "    embeded_words[word.split('_')[0]] = word\n",
    "    "
   ]
  },
  {
   "cell_type": "code",
   "execution_count": 0,
   "metadata": {
    "colab": {},
    "colab_type": "code",
    "id": "MQThWFQIN8as"
   },
   "outputs": [],
   "source": [
    "data = pd.read_csv('annotated_data.csv')\n",
    "department = np.copy(data['zip_code'].values)"
   ]
  },
  {
   "cell_type": "markdown",
   "metadata": {
    "colab_type": "text",
    "id": "fpC2PNjzN8ay"
   },
   "source": [
    "### Dataset statistics"
   ]
  },
  {
   "cell_type": "code",
   "execution_count": 5,
   "metadata": {
    "colab": {
     "base_uri": "https://localhost:8080/",
     "height": 51
    },
    "colab_type": "code",
    "id": "HU473TZFN8a2",
    "outputId": "a15a3768-4a54-42ea-86d8-b4e7bb814820",
    "scrolled": true
   },
   "outputs": [
    {
     "name": "stdout",
     "output_type": "stream",
     "text": [
      "number of rows in the dataset : 2445\n",
      "ratio of class 1 in the dataset: 3.10e-01\n"
     ]
    }
   ],
   "source": [
    "print(\"number of rows in the dataset : {}\".format(data.shape[0]))\n",
    "print(\"ratio of class 1 in the dataset: {:.2e}\".format(np.mean(data['annotation'])))"
   ]
  },
  {
   "cell_type": "code",
   "execution_count": 0,
   "metadata": {
    "colab": {},
    "colab_type": "code",
    "id": "E8UpmorTN8bS"
   },
   "outputs": [],
   "source": [
    "def preprocess(sentence): \n",
    "    '''\n",
    "    return the sentence passed in argmuents with no punctuation\n",
    "    '''\n",
    "    sentence = sentence.replace('\\'',' ').lower()\n",
    "    table = sentence.maketrans('', '', string.punctuation)\n",
    "    sentence = [w.translate(table) for w in sentence]\n",
    "    sentence = ''.join(sentence)\n",
    "\n",
    "    return sentence\n",
    "\n",
    "def embed_answer(sentence): \n",
    "    sentence_embedding = []\n",
    "    sentence = preprocess(sentence)\n",
    "    for i, word in enumerate(sentence.split(' ')):\n",
    "        try : \n",
    "            if not embeded_words[word].endswith('_i'):\n",
    "                sentence_embedding.append(embedding.loc[embeded_words[word]].tolist())\n",
    "        except KeyError: \n",
    "            continue\n",
    "    \n",
    "    return(np.asarray(sentence_embedding, dtype=np.float64))\n",
    "   \n",
    "def compute_variance(sentence_embedding, eval_type='var'):\n",
    "    result = 0\n",
    "    if eval_type == 'var':\n",
    "        for index in range(len(sentence_embedding[0])):\n",
    "            result += np.var(sentence_embedding[:,index])\n",
    "            \n",
    "    elif eval_type == 'dist':\n",
    "        n = len(sentence_embedding)\n",
    "        for word_1_idx in range(n-1):\n",
    "            for word_2_idx in range(word_1_idx+1,n):\n",
    "                result += np.linalg.norm(sentence_embedding[word_1_idx]-sentence_embedding[word_2_idx])\n",
    "        result = result*2/(n*(n-1))\n",
    "\n",
    "    return result\n",
    "\n",
    "def compute_moyenne(sentence_embedding):\n",
    "    result = []\n",
    "    #print(len(sentence_embedding[0]))\n",
    "    for index in range(len(sentence_embedding[0])): # taille 700\n",
    "        result.append(np.sum(sentence_embedding[:,index])/len(sentence_embedding))\n",
    "    return result"
   ]
  },
  {
   "cell_type": "code",
   "execution_count": 7,
   "metadata": {
    "colab": {
     "base_uri": "https://localhost:8080/",
     "height": 177
    },
    "colab_type": "code",
    "id": "Z_oP5sY6N8bY",
    "outputId": "3d67bbd3-3702-4f09-cdd9-1f0f1be58781"
   },
   "outputs": [
    {
     "name": "stderr",
     "output_type": "stream",
     "text": [
      "100%|██████████| 2445/2445 [00:31<00:00, 78.08it/s]\n"
     ]
    },
    {
     "data": {
      "text/html": [
       "<div>\n",
       "<style scoped>\n",
       "    .dataframe tbody tr th:only-of-type {\n",
       "        vertical-align: middle;\n",
       "    }\n",
       "\n",
       "    .dataframe tbody tr th {\n",
       "        vertical-align: top;\n",
       "    }\n",
       "\n",
       "    .dataframe thead th {\n",
       "        text-align: right;\n",
       "    }\n",
       "</style>\n",
       "<table border=\"1\" class=\"dataframe\">\n",
       "  <thead>\n",
       "    <tr style=\"text-align: right;\">\n",
       "      <th></th>\n",
       "      <th>annotation</th>\n",
       "      <th>score_0</th>\n",
       "      <th>score_1</th>\n",
       "      <th>score_2</th>\n",
       "      <th>score_3</th>\n",
       "      <th>score_4</th>\n",
       "      <th>score_5</th>\n",
       "      <th>score_6</th>\n",
       "      <th>score_7</th>\n",
       "      <th>score_8</th>\n",
       "      <th>score_9</th>\n",
       "      <th>score_10</th>\n",
       "      <th>score_11</th>\n",
       "      <th>score_12</th>\n",
       "      <th>score_13</th>\n",
       "      <th>score_14</th>\n",
       "      <th>score_15</th>\n",
       "      <th>score_16</th>\n",
       "      <th>score_17</th>\n",
       "      <th>score_18</th>\n",
       "      <th>score_19</th>\n",
       "      <th>score_20</th>\n",
       "      <th>score_21</th>\n",
       "      <th>score_22</th>\n",
       "      <th>score_23</th>\n",
       "      <th>score_24</th>\n",
       "      <th>score_25</th>\n",
       "      <th>score_26</th>\n",
       "      <th>score_27</th>\n",
       "      <th>score_28</th>\n",
       "      <th>score_29</th>\n",
       "      <th>score_30</th>\n",
       "      <th>score_31</th>\n",
       "      <th>score_32</th>\n",
       "      <th>score_33</th>\n",
       "      <th>score_34</th>\n",
       "      <th>score_35</th>\n",
       "      <th>score_36</th>\n",
       "      <th>score_37</th>\n",
       "      <th>score_38</th>\n",
       "      <th>...</th>\n",
       "      <th>score_660</th>\n",
       "      <th>score_661</th>\n",
       "      <th>score_662</th>\n",
       "      <th>score_663</th>\n",
       "      <th>score_664</th>\n",
       "      <th>score_665</th>\n",
       "      <th>score_666</th>\n",
       "      <th>score_667</th>\n",
       "      <th>score_668</th>\n",
       "      <th>score_669</th>\n",
       "      <th>score_670</th>\n",
       "      <th>score_671</th>\n",
       "      <th>score_672</th>\n",
       "      <th>score_673</th>\n",
       "      <th>score_674</th>\n",
       "      <th>score_675</th>\n",
       "      <th>score_676</th>\n",
       "      <th>score_677</th>\n",
       "      <th>score_678</th>\n",
       "      <th>score_679</th>\n",
       "      <th>score_680</th>\n",
       "      <th>score_681</th>\n",
       "      <th>score_682</th>\n",
       "      <th>score_683</th>\n",
       "      <th>score_684</th>\n",
       "      <th>score_685</th>\n",
       "      <th>score_686</th>\n",
       "      <th>score_687</th>\n",
       "      <th>score_688</th>\n",
       "      <th>score_689</th>\n",
       "      <th>score_690</th>\n",
       "      <th>score_691</th>\n",
       "      <th>score_692</th>\n",
       "      <th>score_693</th>\n",
       "      <th>score_694</th>\n",
       "      <th>score_695</th>\n",
       "      <th>score_696</th>\n",
       "      <th>score_697</th>\n",
       "      <th>score_698</th>\n",
       "      <th>score_699</th>\n",
       "    </tr>\n",
       "  </thead>\n",
       "  <tbody>\n",
       "    <tr>\n",
       "      <th>0</th>\n",
       "      <td>1.0</td>\n",
       "      <td>0.002184</td>\n",
       "      <td>-0.015336</td>\n",
       "      <td>-0.015614</td>\n",
       "      <td>0.004679</td>\n",
       "      <td>0.032181</td>\n",
       "      <td>0.061739</td>\n",
       "      <td>-0.052617</td>\n",
       "      <td>0.034983</td>\n",
       "      <td>-0.054036</td>\n",
       "      <td>-0.003560</td>\n",
       "      <td>-0.023893</td>\n",
       "      <td>0.030134</td>\n",
       "      <td>-0.022957</td>\n",
       "      <td>-0.096924</td>\n",
       "      <td>-0.020862</td>\n",
       "      <td>0.024469</td>\n",
       "      <td>0.008964</td>\n",
       "      <td>-0.00341</td>\n",
       "      <td>-0.099200</td>\n",
       "      <td>0.032381</td>\n",
       "      <td>0.066955</td>\n",
       "      <td>0.061029</td>\n",
       "      <td>0.059304</td>\n",
       "      <td>0.050590</td>\n",
       "      <td>0.026501</td>\n",
       "      <td>0.044429</td>\n",
       "      <td>0.000932</td>\n",
       "      <td>-0.088878</td>\n",
       "      <td>0.043955</td>\n",
       "      <td>-0.049813</td>\n",
       "      <td>0.009454</td>\n",
       "      <td>-0.012575</td>\n",
       "      <td>-0.015028</td>\n",
       "      <td>-0.029254</td>\n",
       "      <td>0.049107</td>\n",
       "      <td>-0.064171</td>\n",
       "      <td>0.002339</td>\n",
       "      <td>0.003971</td>\n",
       "      <td>-0.082595</td>\n",
       "      <td>...</td>\n",
       "      <td>0.052055</td>\n",
       "      <td>0.053834</td>\n",
       "      <td>0.105777</td>\n",
       "      <td>-0.017461</td>\n",
       "      <td>-0.018441</td>\n",
       "      <td>-0.022784</td>\n",
       "      <td>-0.005468</td>\n",
       "      <td>-0.017092</td>\n",
       "      <td>-0.035499</td>\n",
       "      <td>0.087531</td>\n",
       "      <td>-0.070272</td>\n",
       "      <td>-0.039560</td>\n",
       "      <td>0.055880</td>\n",
       "      <td>-0.126657</td>\n",
       "      <td>0.102906</td>\n",
       "      <td>0.000925</td>\n",
       "      <td>0.024712</td>\n",
       "      <td>0.031352</td>\n",
       "      <td>0.005859</td>\n",
       "      <td>-0.022459</td>\n",
       "      <td>-0.018461</td>\n",
       "      <td>-0.025600</td>\n",
       "      <td>-0.047131</td>\n",
       "      <td>0.048235</td>\n",
       "      <td>-0.007438</td>\n",
       "      <td>-0.050618</td>\n",
       "      <td>-0.001673</td>\n",
       "      <td>-0.007135</td>\n",
       "      <td>0.041807</td>\n",
       "      <td>-0.029247</td>\n",
       "      <td>0.029986</td>\n",
       "      <td>0.039820</td>\n",
       "      <td>-0.003342</td>\n",
       "      <td>0.030171</td>\n",
       "      <td>-0.050199</td>\n",
       "      <td>0.039690</td>\n",
       "      <td>-0.009338</td>\n",
       "      <td>-0.014119</td>\n",
       "      <td>0.052214</td>\n",
       "      <td>-0.037971</td>\n",
       "    </tr>\n",
       "    <tr>\n",
       "      <th>1</th>\n",
       "      <td>1.0</td>\n",
       "      <td>0.063287</td>\n",
       "      <td>-0.016981</td>\n",
       "      <td>0.022253</td>\n",
       "      <td>-0.004149</td>\n",
       "      <td>0.041670</td>\n",
       "      <td>0.072220</td>\n",
       "      <td>-0.055472</td>\n",
       "      <td>0.000335</td>\n",
       "      <td>-0.045204</td>\n",
       "      <td>-0.055905</td>\n",
       "      <td>0.015705</td>\n",
       "      <td>0.003759</td>\n",
       "      <td>-0.043319</td>\n",
       "      <td>-0.114346</td>\n",
       "      <td>0.023229</td>\n",
       "      <td>0.016244</td>\n",
       "      <td>-0.001945</td>\n",
       "      <td>-0.03788</td>\n",
       "      <td>-0.095181</td>\n",
       "      <td>0.046255</td>\n",
       "      <td>0.060010</td>\n",
       "      <td>0.059610</td>\n",
       "      <td>0.102582</td>\n",
       "      <td>0.028223</td>\n",
       "      <td>0.021195</td>\n",
       "      <td>0.059657</td>\n",
       "      <td>0.018445</td>\n",
       "      <td>-0.027031</td>\n",
       "      <td>0.044028</td>\n",
       "      <td>-0.102142</td>\n",
       "      <td>0.029924</td>\n",
       "      <td>-0.005812</td>\n",
       "      <td>-0.047841</td>\n",
       "      <td>0.015908</td>\n",
       "      <td>-0.007309</td>\n",
       "      <td>-0.055143</td>\n",
       "      <td>-0.021540</td>\n",
       "      <td>0.008138</td>\n",
       "      <td>-0.110266</td>\n",
       "      <td>...</td>\n",
       "      <td>0.015915</td>\n",
       "      <td>0.066217</td>\n",
       "      <td>0.055951</td>\n",
       "      <td>0.010980</td>\n",
       "      <td>0.020252</td>\n",
       "      <td>0.018804</td>\n",
       "      <td>-0.034904</td>\n",
       "      <td>-0.032455</td>\n",
       "      <td>-0.020692</td>\n",
       "      <td>0.078395</td>\n",
       "      <td>-0.040423</td>\n",
       "      <td>-0.019996</td>\n",
       "      <td>0.060345</td>\n",
       "      <td>-0.081103</td>\n",
       "      <td>0.095946</td>\n",
       "      <td>0.025555</td>\n",
       "      <td>-0.023663</td>\n",
       "      <td>0.045259</td>\n",
       "      <td>0.012465</td>\n",
       "      <td>-0.047058</td>\n",
       "      <td>-0.030532</td>\n",
       "      <td>-0.060022</td>\n",
       "      <td>-0.008305</td>\n",
       "      <td>0.016456</td>\n",
       "      <td>-0.023941</td>\n",
       "      <td>-0.047689</td>\n",
       "      <td>0.016118</td>\n",
       "      <td>-0.039431</td>\n",
       "      <td>0.047126</td>\n",
       "      <td>-0.051574</td>\n",
       "      <td>0.010781</td>\n",
       "      <td>0.019873</td>\n",
       "      <td>-0.005545</td>\n",
       "      <td>-0.014305</td>\n",
       "      <td>-0.030772</td>\n",
       "      <td>0.017193</td>\n",
       "      <td>0.039085</td>\n",
       "      <td>0.000324</td>\n",
       "      <td>0.008392</td>\n",
       "      <td>-0.034817</td>\n",
       "    </tr>\n",
       "  </tbody>\n",
       "</table>\n",
       "<p>2 rows × 701 columns</p>\n",
       "</div>"
      ],
      "text/plain": [
       "   annotation   score_0   score_1  ...  score_697  score_698  score_699\n",
       "0         1.0  0.002184 -0.015336  ...  -0.014119   0.052214  -0.037971\n",
       "1         1.0  0.063287 -0.016981  ...   0.000324   0.008392  -0.034817\n",
       "\n",
       "[2 rows x 701 columns]"
      ]
     },
     "execution_count": 7,
     "metadata": {
      "tags": []
     },
     "output_type": "execute_result"
    }
   ],
   "source": [
    "scores = []\n",
    "for index in tqdm.tqdm(range(len(data))):\n",
    "    answer = embed_answer(data.iloc[index]['solution'])\n",
    "    if len(answer)>1:\n",
    "        # score de taille 700\n",
    "        scores.append(compute_moyenne(answer))#,compute_variance(answer, eval_type='var'),compute_variance(answer, eval_type='dist')])\n",
    "    else:\n",
    "        scores.append([np.nan]*700)\n",
    "        \n",
    "# Total = 15309\n",
    "scores_df = pd.DataFrame(data=np.array(scores),index=data.index, columns = ['score_'+str(i) for i in range(700)]) \n",
    "argumentation_scores = pd.concat([data['annotation'],scores_df], axis=1) \n",
    "argumentation_scores.head(2)"
   ]
  },
  {
   "cell_type": "code",
   "execution_count": 8,
   "metadata": {
    "colab": {
     "base_uri": "https://localhost:8080/",
     "height": 85
    },
    "colab_type": "code",
    "id": "HDM0P8kRN8bd",
    "outputId": "c2c1eabc-9dba-4371-fd24-bfd688d17aa4"
   },
   "outputs": [
    {
     "name": "stdout",
     "output_type": "stream",
     "text": [
      "(2445, 701)\n"
     ]
    },
    {
     "data": {
      "text/plain": [
       "0    1.0\n",
       "1    1.0\n",
       "Name: annotation, dtype: float64"
      ]
     },
     "execution_count": 8,
     "metadata": {
      "tags": []
     },
     "output_type": "execute_result"
    }
   ],
   "source": [
    "argumentation_scores = argumentation_scores.dropna()\n",
    "print(argumentation_scores.shape)\n",
    "X = argumentation_scores.drop('annotation',axis=1)\n",
    "Y = argumentation_scores['annotation']\n",
    "X.head(2)\n",
    "Y.head(2)"
   ]
  },
  {
   "cell_type": "markdown",
   "metadata": {
    "colab_type": "text",
    "id": "8vVaVSDpO9qN"
   },
   "source": [
    "### Split the dataset into a train and a test split\n"
   ]
  },
  {
   "cell_type": "code",
   "execution_count": 0,
   "metadata": {
    "colab": {},
    "colab_type": "code",
    "id": "v9OlCl6YN8bl"
   },
   "outputs": [],
   "source": [
    "X_train, X_test, y_train, y_test = train_test_split(X, Y, test_size=0.2, random_state=42)"
   ]
  },
  {
   "cell_type": "code",
   "execution_count": 0,
   "metadata": {
    "colab": {},
    "colab_type": "code",
    "id": "Z97HTc9-N8bt"
   },
   "outputs": [],
   "source": [
    "freq_1 = y_train.mean()"
   ]
  },
  {
   "cell_type": "markdown",
   "metadata": {
    "colab_type": "text",
    "id": "UiZSDxS1N8by"
   },
   "source": [
    "### Unbalanced weights"
   ]
  },
  {
   "cell_type": "code",
   "execution_count": 11,
   "metadata": {
    "colab": {
     "base_uri": "https://localhost:8080/",
     "height": 493
    },
    "colab_type": "code",
    "id": "c9dcgvHAN8bz",
    "outputId": "681e65f2-d3fe-4d4f-f6ad-ec6ac3c87cd8"
   },
   "outputs": [
    {
     "name": "stdout",
     "output_type": "stream",
     "text": [
      "---------------Scores on train---------------\n",
      "[[1223  206]\n",
      " [ 112  415]]\n",
      "              precision    recall  f1-score   support\n",
      "\n",
      "         0.0       0.92      0.86      0.88      1429\n",
      "         1.0       0.67      0.79      0.72       527\n",
      "\n",
      "    accuracy                           0.84      1956\n",
      "   macro avg       0.79      0.82      0.80      1956\n",
      "weighted avg       0.85      0.84      0.84      1956\n",
      "\n",
      "1956 621.0\n",
      "0.7229965156794425\n",
      "---------------Scores on test---------------\n",
      "[[288  64]\n",
      " [ 85  52]]\n",
      "              precision    recall  f1-score   support\n",
      "\n",
      "         0.0       0.77      0.82      0.79       352\n",
      "         1.0       0.45      0.38      0.41       137\n",
      "\n",
      "    accuracy                           0.70       489\n",
      "   macro avg       0.61      0.60      0.60       489\n",
      "weighted avg       0.68      0.70      0.69       489\n",
      "\n",
      "489 137.0\n",
      "0.4110671936758893\n"
     ]
    }
   ],
   "source": [
    "from sklearn.svm import SVC\n",
    "svclassifier = SVC(kernel='linear', C=9)\n",
    "svclassifier.fit(X_train, y_train)\n",
    "\n",
    "print(15*'-' +'Scores on train' + 15*'-' )\n",
    "y_pred = svclassifier.predict(X_train)\n",
    "print(confusion_matrix(y_pred,y_train))\n",
    "print(classification_report(y_pred, y_train))\n",
    "print(len(y_train), np.sum(y_train))\n",
    "print(f1_score(y_pred,y_train))\n",
    "\n",
    "print(15*'-' +'Scores on test' + 15*'-' )\n",
    "y_pred = svclassifier.predict(X_test)\n",
    "print(confusion_matrix(y_test,y_pred))\n",
    "print(classification_report(y_test,y_pred))\n",
    "print(len(y_test), np.sum(y_test))\n",
    "print(f1_score(y_pred,y_test))"
   ]
  },
  {
   "cell_type": "markdown",
   "metadata": {
    "colab_type": "text",
    "id": "QsqYFFUzN8b8"
   },
   "source": [
    "### Default Balanced weights"
   ]
  },
  {
   "cell_type": "code",
   "execution_count": 12,
   "metadata": {
    "colab": {
     "base_uri": "https://localhost:8080/",
     "height": 493
    },
    "colab_type": "code",
    "id": "_nGerUG3N8b-",
    "outputId": "5f7691f1-3eef-477d-fe6c-48dfa75c6a31"
   },
   "outputs": [
    {
     "name": "stdout",
     "output_type": "stream",
     "text": [
      "---------------Scores on train---------------\n",
      "[[1003   74]\n",
      " [ 332  547]]\n",
      "              precision    recall  f1-score   support\n",
      "\n",
      "         0.0       0.75      0.93      0.83      1077\n",
      "         1.0       0.88      0.62      0.73       879\n",
      "\n",
      "    accuracy                           0.79      1956\n",
      "   macro avg       0.82      0.78      0.78      1956\n",
      "weighted avg       0.81      0.79      0.79      1956\n",
      "\n",
      "1956 621.0\n",
      "0.7293333333333333\n",
      "---------------Scores on test---------------\n",
      "[[222 130]\n",
      " [ 41  96]]\n",
      "              precision    recall  f1-score   support\n",
      "\n",
      "         0.0       0.84      0.63      0.72       352\n",
      "         1.0       0.42      0.70      0.53       137\n",
      "\n",
      "    accuracy                           0.65       489\n",
      "   macro avg       0.63      0.67      0.63       489\n",
      "weighted avg       0.73      0.65      0.67       489\n",
      "\n",
      "489 137.0\n",
      "0.5289256198347108\n"
     ]
    }
   ],
   "source": [
    "from sklearn.svm import SVC\n",
    "svclassifier = SVC(kernel='linear', C=5, class_weight='balanced')\n",
    "svclassifier.fit(X_train, y_train)\n",
    "\n",
    "print(15*'-' +'Scores on train' + 15*'-' )\n",
    "y_pred = svclassifier.predict(X_train)\n",
    "print(confusion_matrix(y_pred,y_train))\n",
    "print(classification_report(y_pred, y_train))\n",
    "print(len(y_train), np.sum(y_train))\n",
    "print(f1_score(y_pred,y_train))\n",
    "\n",
    "print(15*'-' +'Scores on test' + 15*'-' )\n",
    "y_pred = svclassifier.predict(X_test)\n",
    "print(confusion_matrix(y_test,y_pred))\n",
    "print(classification_report(y_test,y_pred))\n",
    "print(len(y_test), np.sum(y_test))\n",
    "print(f1_score(y_pred,y_test))"
   ]
  },
  {
   "cell_type": "markdown",
   "metadata": {
    "colab_type": "text",
    "id": "qr5xiI1qN8cC"
   },
   "source": [
    "### Custom Balanced weights"
   ]
  },
  {
   "cell_type": "code",
   "execution_count": 13,
   "metadata": {
    "colab": {
     "base_uri": "https://localhost:8080/",
     "height": 493
    },
    "colab_type": "code",
    "id": "OK7-5Qo1N8cE",
    "outputId": "d9976542-f02e-43c7-f4ce-54f9d7751270",
    "scrolled": false
   },
   "outputs": [
    {
     "name": "stdout",
     "output_type": "stream",
     "text": [
      "---------------Scores on train---------------\n",
      "[[989  80]\n",
      " [346 541]]\n",
      "              precision    recall  f1-score   support\n",
      "\n",
      "         0.0       0.74      0.93      0.82      1069\n",
      "         1.0       0.87      0.61      0.72       887\n",
      "\n",
      "    accuracy                           0.78      1956\n",
      "   macro avg       0.81      0.77      0.77      1956\n",
      "weighted avg       0.80      0.78      0.78      1956\n",
      "\n",
      "1956 621.0\n",
      "0.7175066312997348\n",
      "---------------Scores on test---------------\n",
      "[[218 134]\n",
      " [ 43  94]]\n",
      "              precision    recall  f1-score   support\n",
      "\n",
      "         0.0       0.84      0.62      0.71       352\n",
      "         1.0       0.41      0.69      0.52       137\n",
      "\n",
      "    accuracy                           0.64       489\n",
      "   macro avg       0.62      0.65      0.61       489\n",
      "weighted avg       0.72      0.64      0.66       489\n",
      "\n",
      "489 137.0\n",
      "0.5150684931506849\n"
     ]
    }
   ],
   "source": [
    "from sklearn.svm import SVC\n",
    "svclassifier = SVC(kernel='linear', C=9, class_weight= {0:freq_1, 1:1-freq_1})\n",
    "svclassifier.fit(X_train, y_train)\n",
    "\n",
    "print(15*'-' +'Scores on train' + 15*'-' )\n",
    "y_pred = svclassifier.predict(X_train)\n",
    "print(confusion_matrix(y_pred,y_train))\n",
    "print(classification_report(y_pred, y_train))\n",
    "print(len(y_train), np.sum(y_train))\n",
    "print(f1_score(y_pred,y_train))\n",
    "\n",
    "print(15*'-' +'Scores on test' + 15*'-' )\n",
    "y_pred = svclassifier.predict(X_test)\n",
    "print(confusion_matrix(y_test,y_pred))\n",
    "print(classification_report(y_test,y_pred))\n",
    "print(len(y_test), np.sum(y_test))\n",
    "print(f1_score(y_pred,y_test))"
   ]
  },
  {
   "cell_type": "markdown",
   "metadata": {
    "colab_type": "text",
    "id": "-KLJSAU9N8cO"
   },
   "source": [
    "### Dimensionality reduction "
   ]
  },
  {
   "cell_type": "code",
   "execution_count": 14,
   "metadata": {
    "colab": {
     "base_uri": "https://localhost:8080/",
     "height": 282
    },
    "colab_type": "code",
    "id": "-6DvH8tKN8cR",
    "outputId": "855dc2f0-e0ba-4cd2-82ea-4a4071d90966"
   },
   "outputs": [
    {
     "data": {
      "text/plain": [
       "[<matplotlib.lines.Line2D at 0x7f7617c5f860>]"
      ]
     },
     "execution_count": 14,
     "metadata": {
      "tags": []
     },
     "output_type": "execute_result"
    },
    {
     "data": {
      "image/png": "[encoded data removed]",
      "text/plain": [
       "<Figure size 432x288 with 1 Axes>"
      ]
     },
     "metadata": {
      "tags": []
     },
     "output_type": "display_data"
    }
   ],
   "source": [
    "from sklearn.decomposition import PCA\n",
    "pca = PCA(n_components=700)\n",
    "pca.fit_transform(X_train)\n",
    "plt.plot(pca.explained_variance_ratio_)\n"
   ]
  },
  {
   "cell_type": "code",
   "execution_count": 0,
   "metadata": {
    "colab": {},
    "colab_type": "code",
    "id": "7Nk0K8EsN8cY"
   },
   "outputs": [],
   "source": [
    "pca = PCA(n_components=313)\n",
    "pca.fit_transform(X_train)\n",
    "X_train_pca = pca.transform(X_train)\n",
    "X_test_pca = pca.transform(X_test) "
   ]
  },
  {
   "cell_type": "code",
   "execution_count": 16,
   "metadata": {
    "colab": {
     "base_uri": "https://localhost:8080/",
     "height": 493
    },
    "colab_type": "code",
    "id": "T9NmsaIjN8ce",
    "outputId": "c45a4b25-ced6-4230-d783-86bbd21d2932"
   },
   "outputs": [
    {
     "name": "stdout",
     "output_type": "stream",
     "text": [
      "---------------Scores on train---------------\n",
      "[[862  98]\n",
      " [473 523]]\n",
      "              precision    recall  f1-score   support\n",
      "\n",
      "         0.0       0.65      0.90      0.75       960\n",
      "         1.0       0.84      0.53      0.65       996\n",
      "\n",
      "    accuracy                           0.71      1956\n",
      "   macro avg       0.74      0.71      0.70      1956\n",
      "weighted avg       0.75      0.71      0.70      1956\n",
      "\n",
      "1956 621.0\n",
      "0.6468769325912183\n",
      "---------------Scores on test---------------\n",
      "[[215 137]\n",
      " [ 26 111]]\n",
      "              precision    recall  f1-score   support\n",
      "\n",
      "         0.0       0.89      0.61      0.73       352\n",
      "         1.0       0.45      0.81      0.58       137\n",
      "\n",
      "    accuracy                           0.67       489\n",
      "   macro avg       0.67      0.71      0.65       489\n",
      "weighted avg       0.77      0.67      0.68       489\n",
      "\n",
      "489 137.0\n",
      "0.5766233766233767\n"
     ]
    }
   ],
   "source": [
    "from sklearn.svm import SVC\n",
    "\n",
    "svclassifier = SVC(kernel='linear', C=6.03e-01, class_weight= 'balanced')\n",
    "svclassifier.fit(X_train_pca, y_train)\n",
    "\n",
    "print(15*'-' +'Scores on train' + 15*'-' )\n",
    "y_pred = svclassifier.predict(X_train_pca)\n",
    "print(confusion_matrix(y_pred,y_train))\n",
    "print(classification_report(y_pred, y_train))\n",
    "print(len(y_train), np.sum(y_train))\n",
    "print(f1_score(y_pred,y_train))\n",
    "\n",
    "print(15*'-' +'Scores on test' + 15*'-' )\n",
    "y_pred = svclassifier.predict(X_test_pca)\n",
    "print(confusion_matrix(y_test,y_pred))\n",
    "print(classification_report(y_test,y_pred))\n",
    "print(len(y_test), np.sum(y_test))\n",
    "print(f1_score(y_pred,y_test))"
   ]
  },
  {
   "cell_type": "markdown",
   "metadata": {
    "colab_type": "text",
    "id": "4vd4t7brN8cl"
   },
   "source": [
    "### Cross Validation "
   ]
  },
  {
   "cell_type": "code",
   "execution_count": 17,
   "metadata": {
    "colab": {
     "base_uri": "https://localhost:8080/",
     "height": 51
    },
    "colab_type": "code",
    "id": "rAPac1lHN8cm",
    "outputId": "63a5d74c-95bd-4cc2-cea6-50e4ead91094"
   },
   "outputs": [
    {
     "name": "stderr",
     "output_type": "stream",
     "text": [
      "best f1 : 6.25e-01 |  for C = 1.27e+01 with 26 components: 100%|██████████| 800/800 [14:20<00:00,  1.00it/s]"
     ]
    },
    {
     "name": "stdout",
     "output_type": "stream",
     "text": [
      "best f1 : 6.25e-01 |  for C = 1.27e+01 with 26 components\n"
     ]
    },
    {
     "name": "stderr",
     "output_type": "stream",
     "text": [
      "\n"
     ]
    }
   ],
   "source": [
    "from tqdm import trange\n",
    "n_split = 1\n",
    "n_val = 800\n",
    "cv_parameters = {'log_10_C': [-1, 2],\n",
    "                 'n_comp':[10, 400] }\n",
    "scores = []\n",
    "log_10_cs = []\n",
    "n_comps = []\n",
    "\n",
    "progress_bar = trange(n_val, desc='Bar desc', leave=True)\n",
    "for n in progress_bar:\n",
    "    log_10_c = np.random.random() * (cv_parameters['log_10_C'][1] - cv_parameters['log_10_C'][0]) + cv_parameters['log_10_C'][0]\n",
    "    n_comp = int(np.random.random() * (cv_parameters['n_comp'][1] - cv_parameters['n_comp'][0]) + cv_parameters['n_comp'][0])\n",
    "    n_comps.append(n_comp)\n",
    "    log_10_cs.append(log_10_c)\n",
    "    f1_mean = []\n",
    "    for split in range(n_split): \n",
    "        \n",
    "        X_cv_train, X_val, y_cv_train, y_val = train_test_split(X_train, y_train, test_size=0.2, random_state=split)\n",
    "        \n",
    "        pca = PCA(n_components=n_comp)\n",
    "        \n",
    "        pca.fit_transform(X_train)\n",
    "        X_train_pca = pca.transform(X_cv_train)\n",
    "        X_test_pca = pca.transform(X_val)\n",
    "        \n",
    "        svclassifier = SVC(kernel='linear', C=10**log_10_c, class_weight= 'balanced')\n",
    "        svclassifier.fit(X_train_pca, y_cv_train)\n",
    "        \n",
    "        y_pred = svclassifier.predict(X_test_pca)\n",
    "        f1_mean.append(f1_score(y_pred,y_val))\n",
    "    scores.append(np.mean(f1_mean))\n",
    "    i_max = scores.index(max(scores))\n",
    "    progress_bar.set_description('best f1 : {:.2e} |  for C = {:.2e} with {} components'.format(scores[i_max], 10**log_10_cs[i_max], n_comps[i_max]))\n",
    "    progress_bar.refresh()\n",
    "    \n",
    "        \n",
    "i_max = scores.index(max(scores))\n",
    "print('best f1 : {:.2e} |  for C = {:.2e} with {} components'.format(scores[i_max], 10**log_10_cs[i_max], n_comps[i_max]))\n"
   ]
  },
  {
   "cell_type": "markdown",
   "metadata": {
    "colab_type": "text",
    "id": "s3aUzXgFhpFM"
   },
   "source": [
    "### Leave-one-out test score estimate\n",
    "Because the amount of data is limited we evaluate the test score by training our classifier on the train set and all the test set but one example. \n",
    "We estimate the test score by taking the mean of the error computed when leaving all the sample of the test set alone once.\n"
   ]
  },
  {
   "cell_type": "code",
   "execution_count": 18,
   "metadata": {
    "colab": {
     "base_uri": "https://localhost:8080/",
     "height": 493
    },
    "colab_type": "code",
    "id": "YERNWQeijEzg",
    "outputId": "e13fc992-1263-4d90-e707-f78069f748ad"
   },
   "outputs": [
    {
     "name": "stdout",
     "output_type": "stream",
     "text": [
      "---------------Scores on train---------------\n",
      "[[778 127]\n",
      " [557 494]]\n",
      "              precision    recall  f1-score   support\n",
      "\n",
      "         0.0       0.58      0.86      0.69       905\n",
      "         1.0       0.80      0.47      0.59      1051\n",
      "\n",
      "    accuracy                           0.65      1956\n",
      "   macro avg       0.69      0.66      0.64      1956\n",
      "weighted avg       0.70      0.65      0.64      1956\n",
      "\n",
      "1956 621.0\n",
      "0.5909090909090909\n",
      "---------------Scores on test---------------\n",
      "[[209 143]\n",
      " [ 25 112]]\n",
      "              precision    recall  f1-score   support\n",
      "\n",
      "         0.0       0.89      0.59      0.71       352\n",
      "         1.0       0.44      0.82      0.57       137\n",
      "\n",
      "    accuracy                           0.66       489\n",
      "   macro avg       0.67      0.71      0.64       489\n",
      "weighted avg       0.77      0.66      0.67       489\n",
      "\n",
      "489 137.0\n",
      "0.5714285714285714\n"
     ]
    }
   ],
   "source": [
    "\n",
    "svclassifier = SVC(kernel='linear', C=9.03e-01, class_weight= 'balanced')\n",
    "pca = PCA(n_components=28)\n",
    "\n",
    "pca.fit_transform(X_train)\n",
    "X_train_pca = pca.transform(X_train)\n",
    "X_test_pca = pca.transform(X_test) \n",
    "\n",
    "svclassifier.fit(X_train_pca, y_train)\n",
    "\n",
    "print(15*'-' +'Scores on train' + 15*'-' )\n",
    "y_pred = svclassifier.predict(X_train_pca)\n",
    "print(confusion_matrix(y_pred,y_train))\n",
    "print(classification_report(y_pred, y_train))\n",
    "print(len(y_train), np.sum(y_train))\n",
    "print(f1_score(y_pred,y_train))\n",
    "\n",
    "print(15*'-' +'Scores on test' + 15*'-' )\n",
    "y_pred = svclassifier.predict(X_test_pca)\n",
    "print(confusion_matrix(y_test,y_pred))\n",
    "print(classification_report(y_test,y_pred))\n",
    "print(len(y_test), np.sum(y_test))\n",
    "print(f1_score(y_pred,y_test))"
   ]
  },
  {
   "cell_type": "code",
   "execution_count": 19,
   "metadata": {
    "colab": {
     "base_uri": "https://localhost:8080/",
     "height": 289
    },
    "colab_type": "code",
    "id": "PfKVFwRYhRe9",
    "outputId": "090612d5-b9dc-4a7a-91ce-34db340a6378"
   },
   "outputs": [
    {
     "name": "stderr",
     "output_type": "stream",
     "text": [
      "100%|██████████| 489/489 [01:43<00:00,  4.71it/s]"
     ]
    },
    {
     "name": "stdout",
     "output_type": "stream",
     "text": [
      "(489,)\n",
      "---------------Leave on out scores on test---------------\n",
      "[[213 139]\n",
      " [ 27 110]]\n",
      "              precision    recall  f1-score   support\n",
      "\n",
      "         0.0       0.89      0.61      0.72       352\n",
      "         1.0       0.44      0.80      0.57       137\n",
      "\n",
      "    accuracy                           0.66       489\n",
      "   macro avg       0.66      0.70      0.64       489\n",
      "weighted avg       0.76      0.66      0.68       489\n",
      "\n",
      "489 137.0\n",
      "0.5699481865284974\n"
     ]
    },
    {
     "name": "stderr",
     "output_type": "stream",
     "text": [
      "\n"
     ]
    }
   ],
   "source": [
    "svclassifier = SVC(kernel='linear', C=9.03e-01, class_weight= 'balanced')\n",
    "pca = PCA(n_components=28)\n",
    "\n",
    "pca.fit_transform(X_train)\n",
    "X_train_pca = pca.transform(X_train)\n",
    "X_test_pca = pca.transform(X_test) \n",
    "\n",
    "y_pred=[]\n",
    "for i in tqdm.tqdm(range(X_test_pca.shape[0])):\n",
    "    X_train_all_but_one = np.concatenate([X_train_pca, X_test_pca[:i], X_test_pca[i+1:]])\n",
    "    Y_train_all_but_one = np.concatenate([y_train, y_test[:i], y_test[i+1:]])\n",
    "    svclassifier.fit(X_train_all_but_one, Y_train_all_but_one)\n",
    "    y_pred.append(svclassifier.predict(np.asarray([X_test_pca[i]]))[0])\n",
    "y_pred = np.asarray(y_pred)\n",
    "print(y_pred.shape)\n",
    "print(15*'-' +'Leave on out scores on test' + 15*'-' )\n",
    "print(confusion_matrix(y_test,y_pred))\n",
    "print(classification_report(y_test,y_pred))\n",
    "print(len(y_test), np.sum(y_test))\n",
    "print(f1_score(y_pred,y_test))"
   ]
  },
  {
   "cell_type": "markdown",
   "metadata": {
    "colab_type": "text",
    "id": "_K8Ximf3N8cr"
   },
   "source": [
    "### PCA on all dataset"
   ]
  },
  {
   "cell_type": "code",
   "execution_count": 0,
   "metadata": {
    "colab": {},
    "colab_type": "code",
    "id": "Tnn2HZ4GN8cu",
    "scrolled": true
   },
   "outputs": [],
   "source": [
    "data_unnanotated = pd.read_csv('dataset_1.csv')"
   ]
  },
  {
   "cell_type": "code",
   "execution_count": 21,
   "metadata": {
    "colab": {
     "base_uri": "https://localhost:8080/",
     "height": 826
    },
    "colab_type": "code",
    "id": "PfLCMMUnN8c0",
    "outputId": "0dca01e8-42cf-44b0-8559-df5429146b4f",
    "scrolled": true
   },
   "outputs": [
    {
     "name": "stderr",
     "output_type": "stream",
     "text": [
      "/usr/local/lib/python3.6/dist-packages/numpy/core/fromnumeric.py:3257: RuntimeWarning: Mean of empty slice.\n",
      "  out=out, **kwargs)\n",
      "/usr/local/lib/python3.6/dist-packages/numpy/core/_methods.py:154: RuntimeWarning: invalid value encountered in true_divide\n",
      "  ret, rcount, out=ret, casting='unsafe', subok=False)\n"
     ]
    },
    {
     "name": "stdout",
     "output_type": "stream",
     "text": [
      "87.2239580154419\n",
      "---------------Scores on train---------------\n",
      "[[771 125]\n",
      " [564 496]]\n",
      "              precision    recall  f1-score   support\n",
      "\n",
      "         0.0       0.58      0.86      0.69       896\n",
      "         1.0       0.80      0.47      0.59      1060\n",
      "\n",
      "    accuracy                           0.65      1956\n",
      "   macro avg       0.69      0.66      0.64      1956\n",
      "weighted avg       0.70      0.65      0.64      1956\n",
      "\n",
      "1956 621.0\n",
      "0.5901249256395004\n",
      "---------------Scores on test---------------\n",
      "[[210 142]\n",
      " [ 25 112]]\n",
      "              precision    recall  f1-score   support\n",
      "\n",
      "         0.0       0.89      0.60      0.72       352\n",
      "         1.0       0.44      0.82      0.57       137\n",
      "\n",
      "    accuracy                           0.66       489\n",
      "   macro avg       0.67      0.71      0.64       489\n",
      "weighted avg       0.77      0.66      0.68       489\n",
      "\n",
      "489 137.0\n",
      "0.5728900255754475\n"
     ]
    },
    {
     "data": {
      "image/png": "[encoded data removed]",
      "text/plain": [
       "<Figure size 432x288 with 1 Axes>"
      ]
     },
     "metadata": {
      "tags": []
     },
     "output_type": "display_data"
    }
   ],
   "source": [
    "import time \n",
    "from sklearn.decomposition import PCA\n",
    "from sklearn.svm import SVC\n",
    "\n",
    "start = time.time()\n",
    "unnanotated_embeded_data = data_unnanotated.head(10000)['solution'].map(lambda x : np.mean(embed_answer(x).reshape(-1,700),axis=0))\n",
    "print(time.time()-start)\n",
    "x = pd.DataFrame(np.asarray(unnanotated_embeded_data.tolist()).astype(np.float64))\n",
    "x = x.dropna()\n",
    "\n",
    "pca = PCA(n_components=28)\n",
    "pca.fit_transform(x)\n",
    "plt.plot(pca.explained_variance_ratio_)\n",
    "X_train_pca = pca.transform(X_train)\n",
    "X_test_pca = pca.transform(X_test)\n",
    "\n",
    "\n",
    "svclassifier = SVC(kernel='linear', C=9.03e-01, class_weight= 'balanced')\n",
    "svclassifier.fit(X_train_pca, y_train)\n",
    "\n",
    "print(15*'-' +'Scores on train' + 15*'-' )\n",
    "y_pred = svclassifier.predict(X_train_pca)\n",
    "print(confusion_matrix(y_pred,y_train))\n",
    "print(classification_report(y_pred, y_train))\n",
    "print(len(y_train), np.sum(y_train))\n",
    "print(f1_score(y_pred,y_train))\n",
    "\n",
    "print(15*'-' +'Scores on test' + 15*'-' )\n",
    "y_pred = svclassifier.predict(X_test_pca)\n",
    "print(confusion_matrix(y_test,y_pred))\n",
    "print(classification_report(y_test,y_pred))\n",
    "print(len(y_test), np.sum(y_test))\n",
    "print(f1_score(y_pred,y_test))"
   ]
  },
  {
   "cell_type": "code",
   "execution_count": 0,
   "metadata": {
    "colab": {},
    "colab_type": "code",
    "id": "20aEP-HGN8dC"
   },
   "outputs": [],
   "source": [
    "x['pred'] = svclassifier.predict(pca.transform(x))\n",
    "x['Department'] = data_unnanotated['zip_code'] // 1000\n",
    "x['zip_code'] = data_unnanotated['zip_code']\n",
    "result_dataframe = x[['zip_code','Department', 'pred']]\n",
    "result_dataframe.to_csv('results_pred.csv')\n"
   ]
  },
  {
   "cell_type": "code",
   "execution_count": 0,
   "metadata": {
    "colab": {},
    "colab_type": "code",
    "id": "sIqREqBTN8dW"
   },
   "outputs": [],
   "source": [
    "\n",
    "x = pd.read_csv('results_pred.csv')\n",
    "unique_dpt = np.unique(x['Department'], return_counts=True)[0]\n",
    "mapping = {'pred':{}}\n",
    "\n",
    "for eval_type in mapping.keys():\n",
    "    for dpt in unique_dpt:\n",
    "        values = x[x['Department']==dpt][eval_type].dropna().values\n",
    "        try:\n",
    "            percentile = np.percentile(abs(values),95)\n",
    "            valid_values = values[abs(values)<=percentile]\n",
    "\n",
    "            M = np.mean(valid_values)\n",
    "            V = np.var(valid_values)\n",
    "        except:\n",
    "            M, V = np.nan, np.nan\n",
    "\n",
    "        mapping[eval_type][int(dpt)] = [M,V]"
   ]
  },
  {
   "cell_type": "code",
   "execution_count": 0,
   "metadata": {
    "colab": {},
    "colab_type": "code",
    "id": "bkRvDF4BN8db"
   },
   "outputs": [],
   "source": [
    "pd.options.mode.chained_assignment = None  # default='warn'\n",
    "\n",
    "def plot_cartography(Colors, eval_type, figsize=(10, 6)):\n",
    "    # set the filepath and load in a shapefile\n",
    "    fp = 'map_files.shp'\n",
    "    map_df = gpd.read_file(fp)\n",
    "    # check data type so we can see that this is not a normal dataframe, but a GEOdataframe\n",
    "    merged = map_df.set_index('code_insee').join(Colors.set_index('code_insee'))\n",
    "    merged['colors']['2A'] = merged['colors']['2B'] = Colors['colors'][20]\n",
    "    merged['colors']['69D'] = merged['colors']['69M'] = Colors['colors'][69]\n",
    "    for idx in merged.index:\n",
    "        if idx not in Colors['code_insee'].values and idx!='2A' and idx!='2B' and idx!='69D' and idx!='69M':\n",
    "            merged = merged.drop(index=idx)\n",
    "    merged.head()\n",
    "\n",
    "    # set a variable that will call whatever column we want to visualise on the map\n",
    "    variable = 'colors'\n",
    "    # set the range for the choropleth\n",
    "    vmin, vmax = np.min(merged[variable].values)-1e-5, np.max(merged[variable].values)\n",
    "    # create figure and axes for Matplotlib\n",
    "    fig, ax = plt.subplots(1, figsize=figsize)\n",
    "\n",
    "    # create map\n",
    "    merged.plot(column=variable, cmap='Blues', linewidth=0.8, ax=ax, edgecolor='0.8')\n",
    "\n",
    "    ax.axis('off')\n",
    "\n",
    "    ax.set_title(\"French Departments, colors correpond to the mean of the argumentation scores : \" + eval_type,\n",
    "                 fontdict={'fontsize': '10', 'fontweight' : '3'})\n",
    "\n",
    "    # Create colorbar as a legend\n",
    "    sm = plt.cm.ScalarMappable(cmap='Blues', norm=plt.Normalize(vmin=vmin, vmax=vmax))\n",
    "    # empty array for the data range\n",
    "    sm._A = []\n",
    "    # add the colorbar to the figure\n",
    "    cbar = fig.colorbar(sm)"
   ]
  },
  {
   "cell_type": "code",
   "execution_count": 29,
   "metadata": {
    "colab": {
     "base_uri": "https://localhost:8080/",
     "height": 357
    },
    "colab_type": "code",
    "id": "HLc9HavHN8dg",
    "outputId": "7bbd777e-a45c-4c4e-a5ce-45b3dae0e8c8"
   },
   "outputs": [
    {
     "data": {
      "image/png": "[encoded data removed]",
      "text/plain": [
       "<Figure size 720x432 with 2 Axes>"
      ]
     },
     "metadata": {
      "tags": []
     },
     "output_type": "display_data"
    }
   ],
   "source": [
    "dpts = [k for k in range(1,96)]\n",
    "for eval_type in ['pred']:\n",
    "    Colors = []\n",
    "    for dpt in dpts:\n",
    "        Colors.append(mapping[eval_type][dpt][0]) # Because in the geopandas the departments go from 0 to 94\n",
    "\n",
    "    Colors = pd.DataFrame(Colors, index=dpts, columns=['colors'])\n",
    "    Colors = pd.concat([Colors, pd.DataFrame(['0'+str(k) for k in range(1,10)] + [str(k) for k in range(10,96)],\n",
    "                                             index=dpts, columns=['code_insee'])], axis=1)\n",
    "\n",
    "    plot_cartography(Colors, eval_type, figsize=(10,6))\n",
    "    plt.savefig('../../{}.png'.format(eval_type))"
   ]
  },
  {
   "cell_type": "markdown",
   "metadata": {
    "colab_type": "text",
    "id": "aQrVVlC9N8dx"
   },
   "source": [
    "### logistic regression"
   ]
  },
  {
   "cell_type": "code",
   "execution_count": 26,
   "metadata": {
    "colab": {
     "base_uri": "https://localhost:8080/",
     "height": 629
    },
    "colab_type": "code",
    "id": "u7W6fSHwN8dz",
    "outputId": "29892030-304a-4b6b-8278-5a652b73a614",
    "scrolled": true
   },
   "outputs": [
    {
     "name": "stdout",
     "output_type": "stream",
     "text": [
      "---------------Scores on train---------------\n",
      "[[1071   96]\n",
      " [ 264  525]]\n",
      "              precision    recall  f1-score   support\n",
      "\n",
      "         0.0       0.80      0.92      0.86      1167\n",
      "         1.0       0.85      0.67      0.74       789\n",
      "\n",
      "    accuracy                           0.82      1956\n",
      "   macro avg       0.82      0.79      0.80      1956\n",
      "weighted avg       0.82      0.82      0.81      1956\n",
      "\n",
      "1956 621.0\n",
      "0.7446808510638299\n",
      "---------------Scores on test---------------\n",
      "[[240 112]\n",
      " [ 56  81]]\n",
      "              precision    recall  f1-score   support\n",
      "\n",
      "         0.0       0.81      0.68      0.74       352\n",
      "         1.0       0.42      0.59      0.49       137\n",
      "\n",
      "    accuracy                           0.66       489\n",
      "   macro avg       0.62      0.64      0.62       489\n",
      "weighted avg       0.70      0.66      0.67       489\n",
      "\n",
      "489 137.0\n",
      "0.49090909090909096\n"
     ]
    },
    {
     "name": "stderr",
     "output_type": "stream",
     "text": [
      "/usr/local/lib/python3.6/dist-packages/sklearn/linear_model/_logistic.py:940: ConvergenceWarning: lbfgs failed to converge (status=1):\n",
      "STOP: TOTAL NO. of ITERATIONS REACHED LIMIT.\n",
      "\n",
      "Increase the number of iterations (max_iter) or scale the data as shown in:\n",
      "    https://scikit-learn.org/stable/modules/preprocessing.html\n",
      "Please also refer to the documentation for alternative solver options:\n",
      "    https://scikit-learn.org/stable/modules/linear_model.html#logistic-regression\n",
      "  extra_warning_msg=_LOGISTIC_SOLVER_CONVERGENCE_MSG)\n"
     ]
    }
   ],
   "source": [
    "pca = PCA(n_components=500)\n",
    "pca.fit_transform(X_train)\n",
    "X_train_pca = pca.transform(X_train)\n",
    "X_test_pca = pca.transform(X_test) \n",
    "\n",
    "\n",
    "from sklearn.linear_model import LogisticRegression \n",
    "clf = LogisticRegression(random_state=0, solver='lbfgs',\n",
    "                          multi_class='ovr', C=100.0,\n",
    "                        class_weight='balanced')\n",
    "\n",
    "clf.fit(X_train_pca, y_train)\n",
    "\n",
    "y_pred = clf.predict(X_test_pca)\n",
    "\n",
    "print(15*'-' +'Scores on train' + 15*'-' )\n",
    "y_pred = clf.predict(X_train_pca)\n",
    "print(confusion_matrix(y_pred,y_train))\n",
    "print(classification_report(y_pred, y_train))\n",
    "print(len(y_train), np.sum(y_train))\n",
    "print(f1_score(y_pred,y_train))\n",
    "\n",
    "print(15*'-' +'Scores on test' + 15*'-' )\n",
    "y_pred = clf.predict(X_test_pca)\n",
    "print(confusion_matrix(y_test,y_pred))\n",
    "print(classification_report(y_test,y_pred))\n",
    "print(len(y_test), np.sum(y_test))\n",
    "print(f1_score(y_pred,y_test))\n",
    "\n"
   ]
  },
  {
   "cell_type": "code",
   "execution_count": 27,
   "metadata": {
    "colab": {
     "base_uri": "https://localhost:8080/",
     "height": 493
    },
    "colab_type": "code",
    "id": "48Tz6KTPN8d7",
    "outputId": "f804cfa9-47d8-49da-ef02-9d7ca96b4600",
    "scrolled": true
   },
   "outputs": [
    {
     "name": "stdout",
     "output_type": "stream",
     "text": [
      "---------------Scores on train---------------\n",
      "[[1060   58]\n",
      " [ 275  563]]\n",
      "              precision    recall  f1-score   support\n",
      "\n",
      "         0.0       0.79      0.95      0.86      1118\n",
      "         1.0       0.91      0.67      0.77       838\n",
      "\n",
      "    accuracy                           0.83      1956\n",
      "   macro avg       0.85      0.81      0.82      1956\n",
      "weighted avg       0.84      0.83      0.82      1956\n",
      "\n",
      "1956 621.0\n",
      "0.7717614804660727\n",
      "---------------Scores on test---------------\n",
      "[[259  93]\n",
      " [ 48  89]]\n",
      "              precision    recall  f1-score   support\n",
      "\n",
      "         0.0       0.84      0.74      0.79       352\n",
      "         1.0       0.49      0.65      0.56       137\n",
      "\n",
      "    accuracy                           0.71       489\n",
      "   macro avg       0.67      0.69      0.67       489\n",
      "weighted avg       0.74      0.71      0.72       489\n",
      "\n",
      "489 137.0\n",
      "0.5579937304075234\n"
     ]
    }
   ],
   "source": [
    "pca = PCA(n_components=30)\n",
    "pca.fit_transform(X_train)\n",
    "X_train_pca = pca.transform(X_train)\n",
    "X_test_pca = pca.transform(X_test) \n",
    "\n",
    "\n",
    "from sklearn.ensemble import RandomForestClassifier \n",
    "\n",
    "\n",
    "clf = RandomForestClassifier(n_estimators=190, max_depth=6, class_weight='balanced')\n",
    "clf.fit(X_train_pca, y_train)\n",
    "\n",
    "y_pred = clf.predict(X_test_pca)\n",
    "\n",
    "print(15*'-' +'Scores on train' + 15*'-' )\n",
    "y_pred = clf.predict(X_train_pca)\n",
    "print(confusion_matrix(y_pred,y_train))\n",
    "print(classification_report(y_pred, y_train))\n",
    "print(len(y_train), np.sum(y_train))\n",
    "print(f1_score(y_pred,y_train))\n",
    "\n",
    "print(15*'-' +'Scores on test' + 15*'-' )\n",
    "y_pred = clf.predict(X_test_pca)\n",
    "print(confusion_matrix(y_test,y_pred))\n",
    "print(classification_report(y_test,y_pred))\n",
    "print(len(y_test), np.sum(y_test))\n",
    "print(f1_score(y_pred,y_test))"
   ]
  },
  {
   "cell_type": "code",
   "execution_count": 28,
   "metadata": {
    "colab": {
     "base_uri": "https://localhost:8080/",
     "height": 493
    },
    "colab_type": "code",
    "id": "9ywnzMNSN8eA",
    "outputId": "2b063e0f-48bb-40ec-961a-c17f37608577",
    "scrolled": true
   },
   "outputs": [
    {
     "name": "stdout",
     "output_type": "stream",
     "text": [
      "---------------Scores on train---------------\n",
      "[[1279    0]\n",
      " [  56  621]]\n",
      "              precision    recall  f1-score   support\n",
      "\n",
      "         0.0       0.96      1.00      0.98      1279\n",
      "         1.0       1.00      0.92      0.96       677\n",
      "\n",
      "    accuracy                           0.97      1956\n",
      "   macro avg       0.98      0.96      0.97      1956\n",
      "weighted avg       0.97      0.97      0.97      1956\n",
      "\n",
      "1956 621.0\n",
      "0.9568567026194145\n",
      "---------------Scores on test---------------\n",
      "[[298  54]\n",
      " [ 59  78]]\n",
      "              precision    recall  f1-score   support\n",
      "\n",
      "         0.0       0.83      0.85      0.84       352\n",
      "         1.0       0.59      0.57      0.58       137\n",
      "\n",
      "    accuracy                           0.77       489\n",
      "   macro avg       0.71      0.71      0.71       489\n",
      "weighted avg       0.77      0.77      0.77       489\n",
      "\n",
      "489 137.0\n",
      "0.5799256505576208\n"
     ]
    }
   ],
   "source": [
    "from sklearn.ensemble import AdaBoostClassifier\n",
    "clf = AdaBoostClassifier(base_estimator=clf)\n",
    "clf.fit(X_train_pca, y_train)\n",
    "\n",
    "y_pred = clf.predict(X_test_pca)\n",
    "\n",
    "print(15*'-' +'Scores on train' + 15*'-' )\n",
    "y_pred = clf.predict(X_train_pca)\n",
    "print(confusion_matrix(y_pred,y_train))\n",
    "print(classification_report(y_pred, y_train))\n",
    "print(len(y_train), np.sum(y_train))\n",
    "print(f1_score(y_pred,y_train))\n",
    "\n",
    "print(15*'-' +'Scores on test' + 15*'-' )\n",
    "y_pred = clf.predict(X_test_pca)\n",
    "print(confusion_matrix(y_test,y_pred))\n",
    "print(classification_report(y_test,y_pred))\n",
    "print(len(y_test), np.sum(y_test))\n",
    "print(f1_score(y_pred,y_test))"
   ]
  }
 ],
 "metadata": {
  "accelerator": "GPU",
  "colab": {
   "collapsed_sections": [],
   "name": "supervised_analysis.ipynb",
   "provenance": []
  },
  "kernelspec": {
   "display_name": "case_study_fmr",
   "language": "python",
   "name": "case_study_fmr"
  },
  "language_info": {
   "codemirror_mode": {
    "name": "ipython",
    "version": 3
   },
   "file_extension": ".py",
   "mimetype": "text/x-python",
   "name": "python",
   "nbconvert_exporter": "python",
   "pygments_lexer": "ipython3",
   "version": "3.6.9"
  }
 },
 "nbformat": 4,
 "nbformat_minor": 1
}
